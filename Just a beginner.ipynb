{
 "cells": [
  {
   "cell_type": "code",
   "execution_count": 1,
   "id": "374cba19",
   "metadata": {},
   "outputs": [],
   "source": [
    "x = 5\n",
    "y = 5"
   ]
  },
  {
   "cell_type": "code",
   "execution_count": 2,
   "id": "c5ace13a",
   "metadata": {},
   "outputs": [
    {
     "data": {
      "text/plain": [
       "True"
      ]
     },
     "execution_count": 2,
     "metadata": {},
     "output_type": "execute_result"
    }
   ],
   "source": [
    "x == y #true"
   ]
  },
  {
   "cell_type": "code",
   "execution_count": 5,
   "id": "2f9be649",
   "metadata": {},
   "outputs": [
    {
     "data": {
      "text/plain": [
       "False"
      ]
     },
     "execution_count": 5,
     "metadata": {},
     "output_type": "execute_result"
    }
   ],
   "source": [
    "x != y #false"
   ]
  },
  {
   "cell_type": "markdown",
   "id": "deb386a8",
   "metadata": {},
   "source": [
    "Markdown attempt"
   ]
  },
  {
   "cell_type": "markdown",
   "id": "81937535",
   "metadata": {},
   "source": [
    "*Markdown attempt*"
   ]
  },
  {
   "cell_type": "code",
   "execution_count": 6,
   "id": "1f1af377",
   "metadata": {},
   "outputs": [
    {
     "data": {
      "text/plain": [
       "True"
      ]
     },
     "execution_count": 6,
     "metadata": {},
     "output_type": "execute_result"
    }
   ],
   "source": [
    "x >= 5"
   ]
  },
  {
   "cell_type": "code",
   "execution_count": 8,
   "id": "cd7cc73c",
   "metadata": {},
   "outputs": [
    {
     "data": {
      "text/plain": [
       "True"
      ]
     },
     "execution_count": 8,
     "metadata": {},
     "output_type": "execute_result"
    }
   ],
   "source": [
    "lst1 = ['green', 'yellow', 'red']\n",
    "is_in = 'green' in lst1\n",
    "is_in"
   ]
  },
  {
   "cell_type": "code",
   "execution_count": 11,
   "id": "23e3e005",
   "metadata": {},
   "outputs": [
    {
     "data": {
      "text/plain": [
       "False"
      ]
     },
     "execution_count": 11,
     "metadata": {},
     "output_type": "execute_result"
    }
   ],
   "source": [
    "is_in = 'green' not in lst1 #membership operators \n",
    "is_in"
   ]
  },
  {
   "cell_type": "markdown",
   "id": "dcf36202",
   "metadata": {},
   "source": [
    "identity operators #is i guesss?"
   ]
  },
  {
   "cell_type": "code",
   "execution_count": 13,
   "id": "37cd9620",
   "metadata": {},
   "outputs": [
    {
     "name": "stdout",
     "output_type": "stream",
     "text": [
      "Enter your number: 5\n",
      "5\n",
      "Enter your name: sabira\n",
      "<class 'str'>\n",
      "<class 'str'>\n"
     ]
    }
   ],
   "source": [
    "num = input(\"Enter your number: \")\n",
    "print(num)\n",
    "num1 = input(\"Enter your name: \")\n",
    "print(type(num))\n",
    "print(type(num1))"
   ]
  },
  {
   "cell_type": "code",
   "execution_count": null,
   "id": "a21fc5f8",
   "metadata": {},
   "outputs": [],
   "source": [
    "num = int(input(\"Enter a number: \")) \n",
    "print(num, \" \", type(num)) "
   ]
  },
  {
   "cell_type": "code",
   "execution_count": null,
   "id": "dbc954e8",
   "metadata": {},
   "outputs": [],
   "source": [
    "po = x ** y\n",
    "po"
   ]
  },
  {
   "cell_type": "code",
   "execution_count": null,
   "id": "8c91831b",
   "metadata": {},
   "outputs": [],
   "source": []
  }
 ],
 "metadata": {
  "kernelspec": {
   "display_name": "Python 3 (ipykernel)",
   "language": "python",
   "name": "python3"
  },
  "language_info": {
   "codemirror_mode": {
    "name": "ipython",
    "version": 3
   },
   "file_extension": ".py",
   "mimetype": "text/x-python",
   "name": "python",
   "nbconvert_exporter": "python",
   "pygments_lexer": "ipython3",
   "version": "3.11.5"
  }
 },
 "nbformat": 4,
 "nbformat_minor": 5
}
